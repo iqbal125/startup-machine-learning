{
 "cells": [
  {
   "cell_type": "code",
   "execution_count": 1,
   "metadata": {},
   "outputs": [],
   "source": [
    "import os, glob\n",
    "import pandas as pd\n",
    "import numpy as np\n",
    "from sklearn.preprocessing import OneHotEncoder\n",
    "from sklearn.ensemble import RandomForestClassifier\n",
    "from sklearn.model_selection import train_test_split\n",
    "from sklearn.metrics import accuracy_score\n",
    "import locale\n",
    "from locale import atof\n",
    "\n",
    "from sklearn.linear_model import LogisticRegression\n",
    "from sklearn.impute import SimpleImputer"
   ]
  },
  {
   "cell_type": "code",
   "execution_count": null,
   "metadata": {},
   "outputs": [],
   "source": []
  },
  {
   "cell_type": "markdown",
   "metadata": {},
   "source": [
    "## Extract Data"
   ]
  },
  {
   "cell_type": "code",
   "execution_count": 2,
   "metadata": {},
   "outputs": [],
   "source": [
    "path = \"C:/Users/iqbal/Desktop/Code/crunchbase test/Crunchbase Data\"\n",
    "all_files = glob.glob(os.path.join(path, \"*.csv\"))\n",
    "\n",
    "data = pd.concat([pd.read_csv(f) for f in all_files ])\n",
    "\n",
    "# data.to_csv(\"combined_csv.csv\", index=False)"
   ]
  },
  {
   "cell_type": "code",
   "execution_count": null,
   "metadata": {},
   "outputs": [],
   "source": []
  },
  {
   "cell_type": "code",
   "execution_count": 3,
   "metadata": {},
   "outputs": [],
   "source": [
    "pd.set_option('display.max_columns',100)\n",
    "pd.set_option('display.max_rows',100)\n",
    "# data.head()\n",
    "# data.info()"
   ]
  },
  {
   "cell_type": "code",
   "execution_count": null,
   "metadata": {},
   "outputs": [],
   "source": []
  },
  {
   "cell_type": "code",
   "execution_count": null,
   "metadata": {},
   "outputs": [],
   "source": []
  },
  {
   "cell_type": "markdown",
   "metadata": {},
   "source": [
    "## Clean Data"
   ]
  },
  {
   "cell_type": "code",
   "execution_count": 4,
   "metadata": {},
   "outputs": [],
   "source": [
    "# dfMain = data.drop(columns=[\"Organization Name\", 'Last Funding Type', \"Industries\", \"Operating Status\", \"Headquarters Location\", \n",
    "#                             \"Founded Date\", \"Organization Name URL\", \"CB Rank (Company)\", \"Founded Date Precision\",\n",
    "#                             \"Exit Date\", \"Exit Date Precision\", \"Closed Date\", \"Closed Date Precision\", \"Company Type\",\n",
    "#                             \"Investment Stage\", \"Founders\", \"Top 5 Investors\", \"Last Funding Amount Currency\",\"Last Funding Date\", \"Last Funding Amount\", \"Last Equity Funding Amount\",\"Last Equity Funding Amount Currency\",\n",
    "#                            \"Total Equity Funding Amount Currency\", \"Total Equity Funding Amount\", \"Total Funding Amount\",\n",
    "#                             \"Total Funding Amount Currency\", \"Number of Acquisitions\", \"Acquisition Status\", \n",
    "#                             \"IPO Status\", \"IPO Date\", \"Delisted Date\", \"Delisted Date Precision\", \n",
    "#                             \"Money Raised at IPO\", \"Money Raised at IPO Currency\",\n",
    "#                             \"Money Raised at IPO Currency (in USD)\", \"Valuation at IPO\", \"Valuation at IPO Currency\",\n",
    "#                             \"Valuation at IPO Currency (in USD)\", \"Stock Symbol\", \"Stock Symbol URL\", \"Stock Exchange\", \n",
    "#                             \"IPqwery - Patents Granted\", \"IPqwery - Trademarks Registered\", \n",
    "#                             \"IPqwery - Most Popular Patent Class\", \"IPqwery - Most Popular Trademark Class\", \n",
    "#                             \"Investor Type\", \"Accelerator Program Type\", \"Accelerator Duration (in weeks)\" ,\n",
    "#                             \"Acquisition Type\", \"G2 Stack - Total Products Active\", \"Aberdeen - IT Spend\",\n",
    "#                             \"Aberdeen - IT Spend Currency\", \"Aberdeen - IT Spend Currency (in USD)\",\n",
    "#                             \"SEMrush - Monthly Visits\", \"SEMrush - Average Visits (6 months)\", \"SEMrush - Monthly Visits Growth\",\n",
    "#                             \"SEMrush - Visit Duration\", \"SEMrush - Page Views / Visit\", \"SEMrush - Visit Duration Growth\",\n",
    "#                             \"SEMrush - Page Views / Visit Growth\", \"SEMrush - Bounce Rate\", \"SEMrush - Bounce Rate Growth\",\n",
    "#                             \"SEMrush - Global Traffic Rank\", \"SEMrush - Monthly Rank Change (#)\", \"SEMrush - Monthly Rank Growth\" \n",
    "#                           ])\n",
    "\n",
    "dfMain = data[['Number of Articles', 'Headquarters Regions', 'Founded Date',\n",
    "               'Estimated Revenue Range', 'Industry Groups', 'Number of Founders',\n",
    "               'Number of Employees', 'Number of Funding Rounds',\n",
    "               'Last Funding Amount Currency (in USD)', \n",
    "               'Last Equity Funding Amount Currency (in USD)',\n",
    "               'Last Equity Funding Type',\n",
    "               'Total Equity Funding Amount Currency (in USD)',\n",
    "               'Total Funding Amount Currency (in USD)', 'Number of Lead Investors',\n",
    "               'Number of Investors', 'BuiltWith - Active Tech Count', \"SEMrush - Monthly Visits\",\n",
    "               'SEMrush - Average Visits (6 months)', \"SEMrush - Visit Duration\", \"SEMrush - Page Views / Visit\",\n",
    "              ]]\n",
    "\n",
    "\n",
    "dfMain=dfMain.dropna()"
   ]
  },
  {
   "cell_type": "code",
   "execution_count": 11,
   "metadata": {},
   "outputs": [
    {
     "name": "stdout",
     "output_type": "stream",
     "text": [
      "<class 'pandas.core.frame.DataFrame'>\n",
      "Int64Index: 11131 entries, 2 to 332\n",
      "Data columns (total 24 columns):\n",
      " #   Column                                         Non-Null Count  Dtype  \n",
      "---  ------                                         --------------  -----  \n",
      " 0   Number of Articles                             11131 non-null  object \n",
      " 1   Headquarters Regions                           11131 non-null  object \n",
      " 2   Founded Date                                   11131 non-null  object \n",
      " 3   Estimated Revenue Range                        11131 non-null  object \n",
      " 4   Industry Groups                                11131 non-null  object \n",
      " 5   Number of Founders                             11131 non-null  float64\n",
      " 6   Number of Employees                            11131 non-null  object \n",
      " 7   Number of Funding Rounds                       11131 non-null  float64\n",
      " 8   Last Funding Amount Currency (in USD)          11131 non-null  float64\n",
      " 9   Last Equity Funding Amount Currency (in USD)   11131 non-null  float64\n",
      " 10  Last Equity Funding Type                       11131 non-null  object \n",
      " 11  Total Equity Funding Amount Currency (in USD)  11131 non-null  float64\n",
      " 12  Total Funding Amount Currency (in USD)         11131 non-null  float64\n",
      " 13  Number of Lead Investors                       11131 non-null  float64\n",
      " 14  Number of Investors                            11131 non-null  float64\n",
      " 15  BuiltWith - Active Tech Count                  11131 non-null  float64\n",
      " 16  SEMrush - Monthly Visits                       11131 non-null  object \n",
      " 17  SEMrush - Average Visits (6 months)            11131 non-null  object \n",
      " 18  SEMrush - Visit Duration                       11131 non-null  object \n",
      " 19  SEMrush - Page Views / Visit                   11131 non-null  float64\n",
      " 20  Industry                                       11131 non-null  object \n",
      " 21  Count                                          11131 non-null  int64  \n",
      " 22  Years Active                                   11130 non-null  float64\n",
      " 23  Has Reached Series A                           11131 non-null  bool   \n",
      "dtypes: bool(1), float64(11), int64(1), object(11)\n",
      "memory usage: 2.0+ MB\n"
     ]
    }
   ],
   "source": [
    "\n",
    "dfMain.info()"
   ]
  },
  {
   "cell_type": "code",
   "execution_count": null,
   "metadata": {},
   "outputs": [],
   "source": []
  },
  {
   "cell_type": "code",
   "execution_count": null,
   "metadata": {},
   "outputs": [],
   "source": []
  },
  {
   "cell_type": "code",
   "execution_count": null,
   "metadata": {},
   "outputs": [],
   "source": []
  },
  {
   "cell_type": "code",
   "execution_count": null,
   "metadata": {},
   "outputs": [],
   "source": []
  },
  {
   "cell_type": "code",
   "execution_count": null,
   "metadata": {},
   "outputs": [],
   "source": []
  },
  {
   "cell_type": "code",
   "execution_count": 12,
   "metadata": {
    "scrolled": true
   },
   "outputs": [
    {
     "name": "stderr",
     "output_type": "stream",
     "text": [
      "C:\\Users\\iqbal\\anaconda3\\lib\\site-packages\\pandas\\core\\indexing.py:671: SettingWithCopyWarning: \n",
      "A value is trying to be set on a copy of a slice from a DataFrame\n",
      "\n",
      "See the caveats in the documentation: https://pandas.pydata.org/pandas-docs/stable/user_guide/indexing.html#returning-a-view-versus-a-copy\n",
      "  self._setitem_with_indexer(indexer, value)\n"
     ]
    }
   ],
   "source": [
    "#Remove Outliers\n",
    "dfMain = dfMain[dfMain[\"Estimated Revenue Range\"] != \"$10B+\"]\n",
    "\n",
    "\n",
    "#Initialize empty columns\n",
    "dfMain[\"Industry\"]=np.nan\n",
    "dfMain[\"Count\"]=np.nan\n",
    "\n",
    "\n",
    "# Create Years Founded Variable\n",
    "dfMain['Years Active'] = pd.to_datetime(dfMain[\"Founded Date\"], errors=\"coerce\")\n",
    "dfMain[\"Years Active\"] = pd.DatetimeIndex(dfMain[\"Years Active\"]).year\n",
    "dfMain[\"Years Active\"] = 2020  - dfMain[\"Years Active\"]\n",
    "dfMain[\"Years Active\"].fillna(10, inplace=True)\n",
    "\n",
    "\n",
    "#Set Categorical and numeric variables\n",
    "cat_vars = dfMain[[\"Headquarters Regions\", \"Industry\", \"Estimated Revenue Range\", \"Number of Employees\",]]\n",
    "\n",
    "num_vars = dfMain[['Number of Articles', 'Number of Founders', 'Number of Funding Rounds', \"Years Active\",\n",
    "                   'Last Funding Amount Currency (in USD)',\n",
    "                   'Last Equity Funding Amount Currency (in USD)',\n",
    "                   'Total Equity Funding Amount Currency (in USD)',\n",
    "                   'Total Funding Amount Currency (in USD)', 'Number of Lead Investors',\n",
    "                   'Number of Investors', 'BuiltWith - Active Tech Count', \"SEMrush - Monthly Visits\",\n",
    "                   'SEMrush - Average Visits (6 months)', \"SEMrush - Visit Duration\", \"SEMrush - Page Views / Visit\"\n",
    "                    ]]\n",
    "\n",
    "#Apply One hot encode\n",
    "ohe = OneHotEncoder()\n",
    "oheMatrix = ohe.fit_transform(cat_vars.astype(str))\n",
    "feat_names = ohe.get_feature_names()\n",
    "\n",
    "\n",
    "#Handle Headerquarters regions with low values\n",
    "dfMain[\"Count\"]=dfMain.groupby(\"Headquarters Regions\").transform('count')\n",
    "dfMain[\"Headquarters Regions\"].loc[dfMain[\"Count\"] < 20 ] = \"Other\"\n",
    "\n",
    "\n",
    "# Get First value of Industry Group\n",
    "dfMain[\"Industry\"] = dfMain[\"Industry Groups\"].str.split(',')\n",
    "dfMain[\"Industry\"] = dfMain[\"Industry\"].apply(lambda x: x[0])\n",
    "\n",
    "\n",
    "\n",
    "#Remove commas from numbers\n",
    "locale.setlocale(locale.LC_NUMERIC, '')\n",
    "num_vars = num_vars.astype(str)\n",
    "num_vars = num_vars.applymap(atof)\n",
    "\n",
    "\n",
    "#Create Target Variable\n",
    "targetValues = [\"Series A\", \"Series B\", \"Series C\", \"Series D\", \"Series E\", \"Series F\", \n",
    "                \"Series G\",  \"Series H\", \"Series I\", \"Series J\", \"Post-IPO Equity\"]\n",
    "\n",
    "dfMain[\"Has Reached Series A\"]=dfMain[\"Last Equity Funding Type\"].isin(targetValues)\n",
    "\n",
    "\n"
   ]
  },
  {
   "cell_type": "markdown",
   "metadata": {},
   "source": [
    "\n",
    "## Analysis"
   ]
  },
  {
   "cell_type": "code",
   "execution_count": null,
   "metadata": {},
   "outputs": [],
   "source": []
  },
  {
   "cell_type": "code",
   "execution_count": null,
   "metadata": {},
   "outputs": [],
   "source": []
  },
  {
   "cell_type": "code",
   "execution_count": 7,
   "metadata": {},
   "outputs": [
    {
     "name": "stdout",
     "output_type": "stream",
     "text": [
      "0.5817463169241825\n"
     ]
    }
   ],
   "source": [
    "\n",
    "\n",
    "x = num_vars\n",
    "y = dfMain[\"Has Reached Series A\"]\n",
    "x_train, x_test, y_train, y_test = train_test_split(x, y)\n",
    "\n",
    "clf = LogisticRegression().fit(x_train, y_train)\n",
    "# clf = RandomForestClassifier().fit(x_train, y_train)\n",
    "prediction = clf.predict(x_test)\n",
    "# print(np.c_[feat_names, clf.feature_importances_])\n",
    "# print(np.c_[num_vars.columns, clf.feature_importances_])\"\"\n",
    "print(accuracy_score(y_test, prediction))\n"
   ]
  },
  {
   "cell_type": "code",
   "execution_count": null,
   "metadata": {},
   "outputs": [],
   "source": []
  },
  {
   "cell_type": "code",
   "execution_count": null,
   "metadata": {},
   "outputs": [],
   "source": []
  },
  {
   "cell_type": "code",
   "execution_count": null,
   "metadata": {},
   "outputs": [],
   "source": []
  },
  {
   "cell_type": "code",
   "execution_count": null,
   "metadata": {},
   "outputs": [],
   "source": []
  },
  {
   "cell_type": "code",
   "execution_count": null,
   "metadata": {},
   "outputs": [],
   "source": []
  },
  {
   "cell_type": "code",
   "execution_count": null,
   "metadata": {},
   "outputs": [],
   "source": []
  },
  {
   "cell_type": "code",
   "execution_count": null,
   "metadata": {},
   "outputs": [],
   "source": []
  },
  {
   "cell_type": "code",
   "execution_count": null,
   "metadata": {},
   "outputs": [],
   "source": []
  },
  {
   "cell_type": "code",
   "execution_count": null,
   "metadata": {},
   "outputs": [],
   "source": []
  },
  {
   "cell_type": "code",
   "execution_count": null,
   "metadata": {},
   "outputs": [],
   "source": []
  },
  {
   "cell_type": "code",
   "execution_count": null,
   "metadata": {},
   "outputs": [],
   "source": []
  },
  {
   "cell_type": "code",
   "execution_count": null,
   "metadata": {},
   "outputs": [],
   "source": []
  },
  {
   "cell_type": "code",
   "execution_count": null,
   "metadata": {},
   "outputs": [],
   "source": []
  },
  {
   "cell_type": "code",
   "execution_count": null,
   "metadata": {},
   "outputs": [],
   "source": []
  },
  {
   "cell_type": "code",
   "execution_count": null,
   "metadata": {},
   "outputs": [],
   "source": []
  },
  {
   "cell_type": "code",
   "execution_count": null,
   "metadata": {},
   "outputs": [],
   "source": []
  },
  {
   "cell_type": "code",
   "execution_count": null,
   "metadata": {},
   "outputs": [],
   "source": []
  },
  {
   "cell_type": "code",
   "execution_count": null,
   "metadata": {},
   "outputs": [],
   "source": []
  },
  {
   "cell_type": "code",
   "execution_count": null,
   "metadata": {},
   "outputs": [],
   "source": []
  },
  {
   "cell_type": "code",
   "execution_count": null,
   "metadata": {},
   "outputs": [],
   "source": []
  }
 ],
 "metadata": {
  "kernelspec": {
   "display_name": "Python 3",
   "language": "python",
   "name": "python3"
  },
  "language_info": {
   "codemirror_mode": {
    "name": "ipython",
    "version": 3
   },
   "file_extension": ".py",
   "mimetype": "text/x-python",
   "name": "python",
   "nbconvert_exporter": "python",
   "pygments_lexer": "ipython3",
   "version": "3.8.3"
  }
 },
 "nbformat": 4,
 "nbformat_minor": 4
}
