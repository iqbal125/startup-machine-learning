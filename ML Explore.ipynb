{
 "cells": [
  {
   "cell_type": "code",
   "execution_count": 1,
   "metadata": {},
   "outputs": [],
   "source": [
    "import os, glob\n",
    "import pandas as pd\n",
    "import numpy as np\n",
    "import locale\n",
    "from locale import atof\n",
    "\n",
    "from sklearn.preprocessing import OneHotEncoder\n",
    "from sklearn.ensemble import RandomForestClassifier\n",
    "from sklearn.model_selection import train_test_split\n",
    "from sklearn.metrics import accuracy_score\n",
    "from sklearn import preprocessing\n",
    "from sklearn.linear_model import LogisticRegression\n",
    "from sklearn.impute import SimpleImputer\n",
    "import sklearn.metrics as metrics\n",
    "\n",
    "import statsmodels.api as sm\n",
    "\n",
    "import seaborn as sns\n",
    "import matplotlib.pyplot as plt\n",
    "%matplotlib inline"
   ]
  },
  {
   "cell_type": "code",
   "execution_count": null,
   "metadata": {},
   "outputs": [],
   "source": []
  },
  {
   "cell_type": "markdown",
   "metadata": {},
   "source": [
    "## Extract Data"
   ]
  },
  {
   "cell_type": "code",
   "execution_count": 2,
   "metadata": {},
   "outputs": [],
   "source": [
    "path = \"C:/Users/iqbal/Desktop/Code/crunchbase test/Crunchbase Data\"\n",
    "all_files = glob.glob(os.path.join(path, \"*.csv\"))\n",
    "\n",
    "data = pd.concat([pd.read_csv(f) for f in all_files ])\n",
    "\n",
    "# data.to_csv(\"combined_csv.csv\", index=False)"
   ]
  },
  {
   "cell_type": "code",
   "execution_count": null,
   "metadata": {},
   "outputs": [],
   "source": []
  },
  {
   "cell_type": "code",
   "execution_count": 3,
   "metadata": {},
   "outputs": [],
   "source": [
    "pd.set_option('display.max_columns',100)\n",
    "pd.set_option('display.max_rows',100)\n",
    "plt.rcParams[\"figure.figsize\"] = (20,5)\n",
    "# data.head()\n",
    "# data.info()"
   ]
  },
  {
   "cell_type": "markdown",
   "metadata": {},
   "source": []
  },
  {
   "cell_type": "code",
   "execution_count": null,
   "metadata": {},
   "outputs": [],
   "source": []
  },
  {
   "cell_type": "code",
   "execution_count": null,
   "metadata": {},
   "outputs": [],
   "source": []
  },
  {
   "cell_type": "markdown",
   "metadata": {},
   "source": [
    "## Clean Data and Explore Data"
   ]
  },
  {
   "cell_type": "code",
   "execution_count": 4,
   "metadata": {},
   "outputs": [],
   "source": [
    "# dfMain = data.drop(columns=[\"Organization Name\", 'Last Funding Type', \"Industries\", \"Operating Status\", \"Headquarters Location\", \n",
    "#                             \"Founded Date\", \"Organization Name URL\", \"CB Rank (Company)\", \"Founded Date Precision\",\n",
    "#                             \"Exit Date\", \"Exit Date Precision\", \"Closed Date\", \"Closed Date Precision\", \"Company Type\",\n",
    "#                             \"Investment Stage\", \"Founders\", \"Top 5 Investors\", \"Last Funding Amount Currency\",\"Last Funding Date\", \"Last Funding Amount\", \"Last Equity Funding Amount\",\"Last Equity Funding Amount Currency\",\n",
    "#                            \"Total Equity Funding Amount Currency\", \"Total Equity Funding Amount\", \"Total Funding Amount\",\n",
    "#                             \"Total Funding Amount Currency\", \"Number of Acquisitions\", \"Acquisition Status\", \n",
    "#                             \"IPO Status\", \"IPO Date\", \"Delisted Date\", \"Delisted Date Precision\", \n",
    "#                             \"Money Raised at IPO\", \"Money Raised at IPO Currency\",\n",
    "#                             \"Money Raised at IPO Currency (in USD)\", \"Valuation at IPO\", \"Valuation at IPO Currency\",\n",
    "#                             \"Valuation at IPO Currency (in USD)\", \"Stock Symbol\", \"Stock Symbol URL\", \"Stock Exchange\", \n",
    "#                             \"IPqwery - Patents Granted\", \"IPqwery - Trademarks Registered\", \n",
    "#                             \"IPqwery - Most Popular Patent Class\", \"IPqwery - Most Popular Trademark Class\", \n",
    "#                             \"Investor Type\", \"Accelerator Program Type\", \"Accelerator Duration (in weeks)\" ,\n",
    "#                             \"Acquisition Type\", \"G2 Stack - Total Products Active\", \"Aberdeen - IT Spend\",\n",
    "#                             \"Aberdeen - IT Spend Currency\", \"Aberdeen - IT Spend Currency (in USD)\",\n",
    "#                             \"SEMrush - Monthly Visits\", \"SEMrush - Average Visits (6 months)\", \"SEMrush - Monthly Visits Growth\",\n",
    "#                             \"SEMrush - Visit Duration\", \"SEMrush - Page Views / Visit\", \"SEMrush - Visit Duration Growth\",\n",
    "#                             \"SEMrush - Page Views / Visit Growth\", \"SEMrush - Bounce Rate\", \"SEMrush - Bounce Rate Growth\",\n",
    "#                             \"SEMrush - Global Traffic Rank\", \"SEMrush - Monthly Rank Change (#)\", \"SEMrush - Monthly Rank Growth\" \n",
    "#                           ])\n",
    "\n",
    "dfMain = data[[\"Organization Name\",'Number of Articles', 'Headquarters Regions',\n",
    "               'Estimated Revenue Range', 'Industry Groups', 'Number of Founders', \"Founded Date\",\n",
    "               'Number of Employees', 'Number of Funding Rounds',\n",
    "               'Last Funding Amount Currency (in USD)', \n",
    "               'Last Equity Funding Amount Currency (in USD)',\n",
    "               'Last Equity Funding Type',\n",
    "               'Total Equity Funding Amount Currency (in USD)',\n",
    "               'Total Funding Amount Currency (in USD)', 'Number of Lead Investors',\n",
    "               'Number of Investors', 'BuiltWith - Active Tech Count', \"SEMrush - Monthly Visits\",\n",
    "               'SEMrush - Average Visits (6 months)', \"SEMrush - Visit Duration\", \"SEMrush - Page Views / Visit\",\n",
    "              ]]\n",
    "\n",
    "\n",
    "dfMain=dfMain.dropna()"
   ]
  },
  {
   "cell_type": "code",
   "execution_count": null,
   "metadata": {},
   "outputs": [],
   "source": []
  },
  {
   "cell_type": "code",
   "execution_count": 5,
   "metadata": {},
   "outputs": [],
   "source": [
    "dfMain['Date 2'] = pd.to_datetime(dfMain[\"Founded Date\"], errors=\"coerce\")\n",
    "dfMain[\"Date 3\"] = pd.DatetimeIndex(dfMain[\"Date 2\"]).year\n",
    "dfMain[\"Years Active\"] = 2020  - dfMain[\"Date 3\"]"
   ]
  },
  {
   "cell_type": "code",
   "execution_count": 6,
   "metadata": {},
   "outputs": [],
   "source": [
    "# dfMain[\"Estimated Revenue Range\"].value_counts()\n",
    "# BigCompanies = dfMain.loc[dfMain[\"Estimated Revenue Range\"] == \"$10B+\"]\n",
    "# BigCompanies"
   ]
  },
  {
   "cell_type": "code",
   "execution_count": 7,
   "metadata": {},
   "outputs": [
    {
     "data": {
      "text/plain": [
       "$1M to $10M       5084\n",
       "$10M to $50M      2302\n",
       "Less than $1M     2204\n",
       "$100M to $500M     663\n",
       "$50M to $100M      568\n",
       "$1B to $10B        142\n",
       "$500M to $1B       135\n",
       "$10B+               33\n",
       "Name: Estimated Revenue Range, dtype: int64"
      ]
     },
     "execution_count": 7,
     "metadata": {},
     "output_type": "execute_result"
    }
   ],
   "source": [
    "dfMain[\"Estimated Revenue Range\"].value_counts()"
   ]
  },
  {
   "cell_type": "code",
   "execution_count": null,
   "metadata": {},
   "outputs": [],
   "source": []
  },
  {
   "cell_type": "code",
   "execution_count": null,
   "metadata": {},
   "outputs": [],
   "source": []
  },
  {
   "cell_type": "code",
   "execution_count": 8,
   "metadata": {},
   "outputs": [
    {
     "name": "stderr",
     "output_type": "stream",
     "text": [
      "C:\\Users\\iqbal\\anaconda3\\lib\\site-packages\\pandas\\core\\indexing.py:671: SettingWithCopyWarning: \n",
      "A value is trying to be set on a copy of a slice from a DataFrame\n",
      "\n",
      "See the caveats in the documentation: https://pandas.pydata.org/pandas-docs/stable/user_guide/indexing.html#returning-a-view-versus-a-copy\n",
      "  self._setitem_with_indexer(indexer, value)\n"
     ]
    }
   ],
   "source": [
    "#Remove Outliers\n",
    "dfMain = dfMain[dfMain[\"Estimated Revenue Range\"] != \"$10B+\"]\n",
    "\n",
    "\n",
    "#Initialize empty columns\n",
    "dfMain[\"Industry\"]=np.nan\n",
    "dfMain[\"Count\"]=np.nan\n",
    "\n",
    "# Get First value of Industry Group\n",
    "dfMain[\"Industry\"] = dfMain[\"Industry Groups\"].str.split(',')\n",
    "dfMain[\"Industry\"] = dfMain[\"Industry\"].apply(lambda x: x[0])\n",
    "\n",
    "# Create Years Founded Variable\n",
    "dfMain['Years Active'] = pd.to_datetime(dfMain[\"Founded Date\"], errors=\"coerce\")\n",
    "dfMain[\"Years Active\"] = pd.DatetimeIndex(dfMain[\"Years Active\"]).year\n",
    "dfMain[\"Years Active\"] = 2020  - dfMain[\"Years Active\"]\n",
    "dfMain[\"Years Active\"].fillna(10, inplace=True)\n",
    "\n",
    "\n",
    "#Set Categorical and numeric variables\n",
    "cat_vars = dfMain[[\"Headquarters Regions\", \"Industry\", \"Estimated Revenue Range\", \"Number of Employees\",]]\n",
    "\n",
    "num_vars = dfMain[['Number of Articles', 'Number of Founders', 'Number of Funding Rounds', 'Years Active',\n",
    "                   'Last Funding Amount Currency (in USD)',\n",
    "                   'Last Equity Funding Amount Currency (in USD)',\n",
    "                   'Total Equity Funding Amount Currency (in USD)',\n",
    "                   'Total Funding Amount Currency (in USD)', 'Number of Lead Investors',\n",
    "                   'Number of Investors', 'BuiltWith - Active Tech Count', \"SEMrush - Monthly Visits\",\n",
    "                   'SEMrush - Average Visits (6 months)', \"SEMrush - Visit Duration\", \"SEMrush - Page Views / Visit\"\n",
    "                    ]]\n",
    "\n",
    "\n",
    "#Apply One hot encode\n",
    "ohe = OneHotEncoder()\n",
    "transformed_cat_vars = ohe.fit_transform(cat_vars.astype(str))\n",
    "feat_names = ohe.get_feature_names()\n",
    "\n",
    "\n",
    "#Handle Headerquarters regions with low values\n",
    "dfMain[\"Count\"]=dfMain.groupby(\"Headquarters Regions\").transform('count')\n",
    "dfMain[\"Headquarters Regions\"].loc[dfMain[\"Count\"] < 20 ] = \"Other\"\n",
    "\n",
    "#Remove commas from numbers\n",
    "locale.setlocale(locale.LC_NUMERIC, '')\n",
    "num_vars = num_vars.astype(str)\n",
    "num_vars = num_vars.applymap(atof)\n",
    "\n",
    "\n",
    "\n",
    "#scale numerical variables\n",
    "scaled_num_vars = preprocessing.StandardScaler().fit_transform(num_vars)\n",
    "\n",
    "\n",
    "# transformed_vars = pd.concat([num_vars, transformed_cat_vars], axis=1)\n",
    "\n",
    "#Create Target Variable\n",
    "targetValues = [\"Series A\", \"Series B\", \"Series C\", \"Series D\", \"Series E\", \"Series F\", \n",
    "                \"Series G\",  \"Series H\", \"Series I\", \"Series J\", \"Post-IPO Equity\"]\n",
    "\n",
    "dfMain[\"Has Reached Series A\"]=dfMain[\"Last Equity Funding Type\"].isin(targetValues)"
   ]
  },
  {
   "cell_type": "code",
   "execution_count": 9,
   "metadata": {},
   "outputs": [
    {
     "data": {
      "text/plain": [
       "42"
      ]
     },
     "execution_count": 9,
     "metadata": {},
     "output_type": "execute_result"
    }
   ],
   "source": [
    "dfMain[\"Industry\"].nunique()"
   ]
  },
  {
   "cell_type": "code",
   "execution_count": null,
   "metadata": {},
   "outputs": [],
   "source": []
  },
  {
   "cell_type": "markdown",
   "metadata": {},
   "source": [
    "## Analyze Data"
   ]
  },
  {
   "cell_type": "code",
   "execution_count": 10,
   "metadata": {},
   "outputs": [
    {
     "data": {
      "text/plain": [
       "True     6490\n",
       "False    4608\n",
       "Name: Has Reached Series A, dtype: int64"
      ]
     },
     "execution_count": 10,
     "metadata": {},
     "output_type": "execute_result"
    }
   ],
   "source": [
    "dfMain[\"Has Reached Series A\"].value_counts()"
   ]
  },
  {
   "cell_type": "code",
   "execution_count": 11,
   "metadata": {},
   "outputs": [
    {
     "data": {
      "text/plain": [
       "Number of Articles                              -0.007323\n",
       "Number of Founders                               0.077417\n",
       "Number of Funding Rounds                         0.114631\n",
       "Years Active                                    -0.049818\n",
       "Last Funding Amount Currency (in USD)            0.048748\n",
       "Last Equity Funding Amount Currency (in USD)     0.032204\n",
       "Total Equity Funding Amount Currency (in USD)    0.019229\n",
       "Total Funding Amount Currency (in USD)           0.018138\n",
       "Number of Lead Investors                         0.215619\n",
       "Number of Investors                              0.222137\n",
       "BuiltWith - Active Tech Count                    0.081618\n",
       "SEMrush - Monthly Visits                         0.010303\n",
       "SEMrush - Average Visits (6 months)              0.010361\n",
       "SEMrush - Visit Duration                         0.035443\n",
       "SEMrush - Page Views / Visit                     0.026032\n",
       "dtype: float64"
      ]
     },
     "execution_count": 11,
     "metadata": {},
     "output_type": "execute_result"
    }
   ],
   "source": [
    "num_vars.corrwith(dfMain[\"Has Reached Series A\"])"
   ]
  },
  {
   "cell_type": "code",
   "execution_count": null,
   "metadata": {},
   "outputs": [],
   "source": []
  },
  {
   "cell_type": "code",
   "execution_count": 12,
   "metadata": {},
   "outputs": [],
   "source": [
    "# pd.crosstab(dfMain['Estimated Revenue Range'] ,dfMain[\"Has Reached Series A\"]).plot(kind='bar')\n",
    "# sns.catplot(x=\"Has Reached Series A\", y=\"SEMrush - Page Views / Visit\", kind=\"box\", data=dfMain)"
   ]
  },
  {
   "cell_type": "code",
   "execution_count": null,
   "metadata": {},
   "outputs": [],
   "source": [
    "\n"
   ]
  },
  {
   "cell_type": "code",
   "execution_count": null,
   "metadata": {},
   "outputs": [],
   "source": []
  },
  {
   "cell_type": "code",
   "execution_count": 13,
   "metadata": {},
   "outputs": [],
   "source": [
    "\n",
    "# calculate the fpr and tpr for all thresholds of the classification\n",
    "\n",
    "\n"
   ]
  },
  {
   "cell_type": "code",
   "execution_count": null,
   "metadata": {},
   "outputs": [],
   "source": []
  },
  {
   "cell_type": "markdown",
   "metadata": {},
   "source": [
    "## Predict Data"
   ]
  },
  {
   "cell_type": "code",
   "execution_count": 20,
   "metadata": {},
   "outputs": [
    {
     "name": "stdout",
     "output_type": "stream",
     "text": [
      "0.5927927927927928\n"
     ]
    }
   ],
   "source": [
    "\n",
    "\n",
    "# x = scaled_num_vars\n",
    "x = transformed_cat_vars\n",
    "\n",
    "\n",
    "y = dfMain[\"Has Reached Series A\"]\n",
    "x_train, x_test, y_train, y_test = train_test_split(x, y)\n",
    "\n",
    "clf = RandomForestClassifier().fit(x_train, y_train)\n",
    "# clf = LogisticRegression().fit(x_train, y_train)\n",
    "\n",
    "# print(np.c_[feat_names, clf.feature_importances_])\n",
    "# print(pd.DataFrame({\"Features\":feat_names, \"Importances\":  clf.feature_importances_}).sort_values(by='Importances') )\n",
    "# print(pd.DataFrame({\"Features\":num_vars.columns, \"Importances\":  clf.feature_importances_}).sort_values(by='Importances') )\n",
    "\n",
    "\n",
    "# print(pd.DataFrame({\"Features\": num_vars.columns.tolist(), \"Coeff\": np.exp(clf.coef_[0]) }) )\n",
    "# df5 = pd.DataFrame({\"Features\": feat_names, \"Coeff\": np.exp(clf.coef_[0]) }) \n",
    "\n",
    "prediction = clf.predict(x_test)\n",
    "print(accuracy_score(y_test, prediction))\n"
   ]
  },
  {
   "cell_type": "code",
   "execution_count": 18,
   "metadata": {},
   "outputs": [],
   "source": [
    "pd.set_option('display.max_rows', 105)\n",
    "# df5.sort_values(by=\"Coeff\")\n"
   ]
  },
  {
   "cell_type": "code",
   "execution_count": 16,
   "metadata": {},
   "outputs": [
    {
     "data": {
      "image/png": "[encoded data removed]",
      "text/plain": [
       "<Figure size 1440x360 with 1 Axes>"
      ]
     },
     "metadata": {
      "needs_background": "light"
     },
     "output_type": "display_data"
    }
   ],
   "source": [
    "probs = clf.predict_proba(x_test)\n",
    "preds = probs[:,1]\n",
    "fpr, tpr, threshold = metrics.roc_curve(y_test, preds)\n",
    "roc_auc = metrics.auc(fpr, tpr)\n",
    "\n",
    "\n",
    "plt.title('Receiver Operating Characteristic')\n",
    "plt.plot(fpr, tpr, 'b', label = 'AUC = %0.2f' % roc_auc)\n",
    "plt.legend(loc = 'lower right')\n",
    "plt.plot([0, 1], [0, 1],'r--')\n",
    "plt.xlim([0, 1])\n",
    "plt.ylim([0, 1])\n",
    "plt.ylabel('True Positive Rate')\n",
    "plt.xlabel('False Positive Rate')\n",
    "plt.show()"
   ]
  },
  {
   "cell_type": "code",
   "execution_count": null,
   "metadata": {},
   "outputs": [],
   "source": []
  },
  {
   "cell_type": "code",
   "execution_count": null,
   "metadata": {},
   "outputs": [],
   "source": []
  },
  {
   "cell_type": "code",
   "execution_count": null,
   "metadata": {},
   "outputs": [],
   "source": []
  },
  {
   "cell_type": "code",
   "execution_count": null,
   "metadata": {},
   "outputs": [],
   "source": []
  },
  {
   "cell_type": "code",
   "execution_count": null,
   "metadata": {},
   "outputs": [],
   "source": []
  },
  {
   "cell_type": "code",
   "execution_count": null,
   "metadata": {},
   "outputs": [],
   "source": []
  },
  {
   "cell_type": "code",
   "execution_count": null,
   "metadata": {},
   "outputs": [],
   "source": []
  },
  {
   "cell_type": "code",
   "execution_count": null,
   "metadata": {},
   "outputs": [],
   "source": []
  },
  {
   "cell_type": "code",
   "execution_count": null,
   "metadata": {},
   "outputs": [],
   "source": []
  },
  {
   "cell_type": "code",
   "execution_count": null,
   "metadata": {},
   "outputs": [],
   "source": []
  },
  {
   "cell_type": "code",
   "execution_count": null,
   "metadata": {},
   "outputs": [],
   "source": []
  },
  {
   "cell_type": "code",
   "execution_count": null,
   "metadata": {},
   "outputs": [],
   "source": []
  },
  {
   "cell_type": "code",
   "execution_count": null,
   "metadata": {},
   "outputs": [],
   "source": []
  },
  {
   "cell_type": "code",
   "execution_count": null,
   "metadata": {},
   "outputs": [],
   "source": []
  },
  {
   "cell_type": "code",
   "execution_count": null,
   "metadata": {},
   "outputs": [],
   "source": []
  },
  {
   "cell_type": "code",
   "execution_count": null,
   "metadata": {},
   "outputs": [],
   "source": []
  },
  {
   "cell_type": "code",
   "execution_count": null,
   "metadata": {},
   "outputs": [],
   "source": []
  },
  {
   "cell_type": "code",
   "execution_count": null,
   "metadata": {},
   "outputs": [],
   "source": []
  },
  {
   "cell_type": "code",
   "execution_count": null,
   "metadata": {},
   "outputs": [],
   "source": []
  },
  {
   "cell_type": "code",
   "execution_count": null,
   "metadata": {},
   "outputs": [],
   "source": []
  }
 ],
 "metadata": {
  "kernelspec": {
   "display_name": "Python 3",
   "language": "python",
   "name": "python3"
  },
  "language_info": {
   "codemirror_mode": {
    "name": "ipython",
    "version": 3
   },
   "file_extension": ".py",
   "mimetype": "text/x-python",
   "name": "python",
   "nbconvert_exporter": "python",
   "pygments_lexer": "ipython3",
   "version": "3.8.3"
  }
 },
 "nbformat": 4,
 "nbformat_minor": 4
}
